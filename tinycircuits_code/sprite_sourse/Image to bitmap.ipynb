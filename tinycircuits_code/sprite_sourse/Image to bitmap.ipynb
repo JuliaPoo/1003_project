{
 "cells": [
  {
   "cell_type": "code",
   "execution_count": 3,
   "metadata": {},
   "outputs": [],
   "source": [
    "from PIL import Image\n",
    "import numpy as np"
   ]
  },
  {
   "cell_type": "code",
   "execution_count": 68,
   "metadata": {},
   "outputs": [],
   "source": [
    "def crop(ImgArr):\n",
    "    x_disp = 0; y_disp = 0\n",
    "    \n",
    "    i = 0\n",
    "    while sum(sum(ImgArr[i])) == 0:\n",
    "        ImgArr = np.delete(ImgArr, i, 0)\n",
    "    i = -1\n",
    "    while sum(sum(ImgArr[i])) == 0:\n",
    "        ImgArr = np.delete(ImgArr, i, 0)\n",
    "        y_disp += 1\n",
    "    i = 0\n",
    "    while sum(sum(ImgArr[:,i])) == 0:\n",
    "        ImgArr = np.delete(ImgArr, i, 1)\n",
    "    i = -1\n",
    "    while sum(sum(ImgArr[:,i])) == 0:\n",
    "        ImgArr = np.delete(ImgArr, i, 1)\n",
    "        x_disp += 1\n",
    "    return ImgArr, x_disp, y_disp"
   ]
  },
  {
   "cell_type": "code",
   "execution_count": 69,
   "metadata": {},
   "outputs": [],
   "source": [
    "ALPHA = \"ALPHA\"\n",
    "alpha_bit = 0xFE\n",
    "\n",
    "def RGBA_to_bitmap(col):\n",
    "    #8 BIT: BBBGGGRR\n",
    "    if len(col) == 4:\n",
    "        if col[3] == 0: return ALPHA\n",
    "    col = np.array(col)/255.\n",
    "    bitcol = int(round(col[0]*3) + round(col[1]*7)*4 + round(col[2]*7)*4*8)\n",
    "    if bitcol == alpha_bit: bitcol += 1\n",
    "    return bitcol\n",
    "\n",
    "def bitmap_to_RGBA(bitcol):\n",
    "    #8 BIT: BBBGGGRR\n",
    "    if bitcol == ALPHA: return [0,0,0,0]\n",
    "    R = bitcol%4\n",
    "    G = bitcol//4 % 8\n",
    "    B = bitcol//(4*8)\n",
    "    return [int(x) for x in [R/3.*255, G/7.*255, B/7.*255, 255]]\n",
    "    \n",
    "def GetBitmap(ImgArr):\n",
    "    shape = ImgArr.shape\n",
    "    Bitmap = [[RGBA_to_bitmap(COL) for COL in row] for row in ImgArr]\n",
    "    return {\"X\": shape[1], \"Y\": shape[0]}, Bitmap\n",
    "\n",
    "def Bitmap_to_string(Bitmap):\n",
    "    return \", \".join([str(item) for sublist in Bitmap for item in sublist])\n",
    "\n",
    "def Bitmap_to_image(Bitmap):\n",
    "    return Image.fromarray(np.array([[bitmap_to_RGBA(COL) for COL in row] for row in Bitmap], dtype=\"uint8\"))"
   ]
  },
  {
   "cell_type": "code",
   "execution_count": 70,
   "metadata": {},
   "outputs": [],
   "source": [
    "def Filename_to_bitmap(FILENAME, RESOLUTION_x, Orientation = \"xy\"):\n",
    "    '''\n",
    "    FILENAME must be of an image with an alpha channel\n",
    "    RESOLUTION_x is an estimate of the x-resolution of the final bitmap\n",
    "    \n",
    "    returns:\n",
    "        STRING, string of final bitmap. Just copy and paste it\n",
    "        shape: shape of final bitmap (after cropping extra alpha rows and columns)\n",
    "    '''\n",
    "    \n",
    "    Img = Image.open(FILENAME)\n",
    "    RX = np.asarray(Img).shape[0]\n",
    "    RY = np.asarray(Img).shape[1]\n",
    "    if Orientation == \"yx\": t = RX; RX = RY; RY = t;\n",
    "    scale = RESOLUTION_x/RX\n",
    "    Img = Img.resize((round(RX*scale), round(RY*scale)), Image.NEAREST)\n",
    "    ImgArr = np.asarray(Img)\n",
    "    ImgArrCrop, x_disp, y_disp = crop(ImgArr)\n",
    "    shape, Bitmap = GetBitmap(ImgArrCrop)\n",
    "    Bitmap = [[col if col != 0 else 0xFF for col in row] for row in Bitmap]\n",
    "    STRING = Bitmap_to_string(Bitmap)\n",
    "    preview = Bitmap_to_image(Bitmap)\n",
    "    \n",
    "    return STRING, shape, preview, x_disp, y_disp"
   ]
  },
  {
   "cell_type": "code",
   "execution_count": 71,
   "metadata": {},
   "outputs": [],
   "source": [
    "FILENAME = r\"C:\\Users\\nailu\\Downloads\\eheh.png\"\n",
    "#FILENAME = r\"C:\\Users\\nailu\\Downloads\\grass.png\"\n",
    "#FILENAME = r\"C:\\Users\\nailu\\Downloads\\flag (3).jpg\"\n",
    "#FILENAME = r\"C:\\Users\\nailu\\Downloads\\hamburger_menu.png\"\n",
    "STRING, shape, preview, x_disp, y_disp = Filename_to_bitmap(FILENAME, 30, Orientation = \"yx\")"
   ]
  },
  {
   "cell_type": "code",
   "execution_count": 72,
   "metadata": {},
   "outputs": [
    {
     "data": {
      "text/plain": [
       "{'X': 17, 'Y': 27}"
      ]
     },
     "execution_count": 72,
     "metadata": {},
     "output_type": "execute_result"
    }
   ],
   "source": [
    "shape"
   ]
  },
  {
   "cell_type": "code",
   "execution_count": 73,
   "metadata": {},
   "outputs": [
    {
     "data": {
      "image/png": "[encoded data removed]",
      "text/plain": [
       "<PIL.Image.Image image mode=RGBA size=17x27 at 0x2EAAF639630>"
      ]
     },
     "execution_count": 73,
     "metadata": {},
     "output_type": "execute_result"
    }
   ],
   "source": [
    "preview"
   ]
  },
  {
   "cell_type": "code",
   "execution_count": 74,
   "metadata": {},
   "outputs": [
    {
     "data": {
      "text/plain": [
       "'ALPHA, ALPHA, ALPHA, 210, 210, ALPHA, ALPHA, ALPHA, ALPHA, ALPHA, 133, 133, ALPHA, ALPHA, ALPHA, ALPHA, ALPHA, ALPHA, ALPHA, 215, 210, 210, 211, ALPHA, ALPHA, ALPHA, 165, 133, 133, 165, ALPHA, ALPHA, ALPHA, ALPHA, ALPHA, ALPHA, 211, 211, 210, 211, 210, ALPHA, 165, 97, 165, 133, 133, 165, ALPHA, ALPHA, ALPHA, ALPHA, 210, 215, 211, 211, 210, 97, 210, 97, 165, 197, 165, 133, 165, ALPHA, ALPHA, ALPHA, ALPHA, 210, 210, 243, 243, 243, 243, 97, 97, 197, 197, 193, 165, 133, 165, ALPHA, ALPHA, ALPHA, ALPHA, 243, 170, 243, 243, 243, 243, 243, 234, 234, 234, 165, 133, 133, 165, ALPHA, ALPHA, 211, 174, 243, 243, 243, 243, 243, 243, 243, 206, 202, 206, 165, 133, 165, ALPHA, ALPHA, 243, 243, 243, 243, 211, 211, 251, 251, 251, 251, 251, 251, 165, 165, 64, 137, 211, 243, 243, 243, 243, 211, 255, 255, 255, 255, 255, 255, 255, 255, 133, 64, 137, 243, 243, 243, 243, 211, 255, 255, 32, 36, 36, 255, 255, 255, 64, 64, 137, 64, 243, 243, 243, 243, 211, 251, 36, 36, 255, 255, 36, 255, 36, 36, 255, 64, 64, 243, 243, 243, 243, 211, 255, 36, 36, 255, 255, 36, 255, 36, 36, 255, 64, 64, 211, 243, 243, 243, 243, 251, 36, 68, 68, 68, 36, 255, 36, 36, 68, 64, 64, 211, 211, 243, 243, 243, 211, 251, 64, 68, 36, 255, 255, 255, 36, 64, 105, 64, ALPHA, 211, 243, 243, 243, 211, 251, 255, 255, 255, 255, 255, 255, 255, 255, 68, 105, ALPHA, 211, 174, 243, 243, 211, 211, 174, 251, 255, 255, 255, 255, 255, 105, 105, 105, ALPHA, ALPHA, 243, 211, 243, 243, 243, 243, 174, 174, 174, 133, 133, 133, 105, 133, ALPHA, ALPHA, ALPHA, 211, 211, 243, 243, 243, 243, 243, 251, 251, 251, 165, 133, 255, ALPHA, ALPHA, ALPHA, 211, 210, 243, 243, 243, 133, 243, 251, 251, 255, 255, 137, 133, 133, 165, ALPHA, ALPHA, 211, 211, 243, 243, 239, 165, 211, 255, 255, 255, 255, 255, 165, 133, 165, ALPHA, 211, 133, 243, 243, 239, 162, 202, 251, 255, 255, 255, 255, 255, 165, 165, 96, 133, 211, 133, 243, 239, 162, 202, 243, 255, 255, 255, 255, 255, 251, 165, 133, 96, 133, ALPHA, 243, 133, 161, 234, 202, 207, 210, 255, 255, 251, 251, 133, 96, 96, 165, ALPHA, ALPHA, ALPHA, 133, 202, 202, 243, 243, 211, 174, 202, 234, 197, 165, 96, 165, ALPHA, ALPHA, ALPHA, ALPHA, 133, 243, 239, 243, 211, 65, 97, 193, 193, 193, 165, 96, 133, ALPHA, ALPHA, ALPHA, ALPHA, 239, 243, 243, 243, 243, 64, 96, 197, 229, 197, 165, 165, ALPHA, ALPHA, ALPHA, ALPHA, ALPHA, 243, 211, 243, 243, 65, 251, 96, 197, 193, 165, 197, 197, ALPHA, ALPHA, ALPHA'"
      ]
     },
     "execution_count": 74,
     "metadata": {},
     "output_type": "execute_result"
    }
   ],
   "source": [
    "STRING"
   ]
  },
  {
   "cell_type": "code",
   "execution_count": null,
   "metadata": {},
   "outputs": [],
   "source": []
  },
  {
   "cell_type": "code",
   "execution_count": 75,
   "metadata": {},
   "outputs": [],
   "source": [
    "from PIL import GifImagePlugin"
   ]
  },
  {
   "cell_type": "code",
   "execution_count": 76,
   "metadata": {},
   "outputs": [
    {
     "ename": "SyntaxError",
     "evalue": "invalid syntax (<ipython-input-76-d83ca0e7f3be>, line 5)",
     "output_type": "error",
     "traceback": [
      "\u001b[1;36m  File \u001b[1;32m\"<ipython-input-76-d83ca0e7f3be>\"\u001b[1;36m, line \u001b[1;32m5\u001b[0m\n\u001b[1;33m    elif (sum([1 for X,Y in zip(frame[i][j], col) if X != Y]) == 0):\u001b[0m\n\u001b[1;37m       ^\u001b[0m\n\u001b[1;31mSyntaxError\u001b[0m\u001b[1;31m:\u001b[0m invalid syntax\n"
     ]
    }
   ],
   "source": [
    "def replace_alpha(col, frame):\n",
    "    frame = frame.copy();\n",
    "    for i in range(frame.shape[0]):\n",
    "        for j in range(frame.shape[1]):\n",
    "            elif (sum([1 for X,Y in zip(frame[i][j], col) if X != Y]) == 0):\n",
    "                for k in range(4): frame[i][j][k] = 0\n",
    "    return frame"
   ]
  },
  {
   "cell_type": "code",
   "execution_count": 84,
   "metadata": {},
   "outputs": [
    {
     "name": "stdout",
     "output_type": "stream",
     "text": [
      "{'X': 20, 'Y': 25}\n"
     ]
    }
   ],
   "source": [
    "FILENAME = r\"./cutie2.gif\"\n",
    "SPRITENAME = \"RUN\"\n",
    "RESOLUTION_X = 60 \n",
    "\n",
    "GIF = Image.open(FILENAME)\n",
    "n_frames = GIF.n_frames\n",
    "FRAMES = []\n",
    "for i in range(n_frames):\n",
    "    GIF.seek(i)\n",
    "    img = GIF.copy()\n",
    "    FRAMES.append(img)\n",
    "    \n",
    "scale = float(RESOLUTION_X)/np.asarray(FRAMES[0]).shape[1]\n",
    "FRAMES_resized = [Img.resize((int(np.asarray(Img).shape[1] * scale), int(np.asarray(Img).shape[0] * scale)), Image.NEAREST) for Img in FRAMES]\n",
    "FRAMES_RGBA = [np.asarray(Img.convert(\"RGBA\")) for Img in FRAMES_resized]\n",
    "FRAMES_RGBA = [replace_alpha([192, 192, 192, 255], frame) for frame in FRAMES_RGBA]\n",
    "FRAMES_cropped = [crop(Img)[0] for Img in FRAMES_RGBA]\n",
    "FRAMES_disp = [(crop(Img)[1], crop(Img)[2]) for Img in FRAMES_RGBA]\n",
    "FRAMES_disp = [(disp[0] - FRAMES_disp[0][0], disp[1] - FRAMES_disp[0][1]) for disp in FRAMES_disp]\n",
    "Bitmap = [GetBitmap(Img) for Img in FRAMES_cropped]\n",
    "STRING = [(shape, Bitmap_to_string(bitmap)) for shape, bitmap in Bitmap]\n",
    "\n",
    "print(Bitmap[0][0])\n",
    "\n",
    "DISP_STR = \"{\" + \", \".join([\"{0}, {1}\".format(disp[0], disp[1]) for disp in FRAMES_disp]) + \"};\"\n",
    "CODE = '''const char {0}_disp[{1}] PROGMEM = {2}\\n'''.format(SPRITENAME, len(STRING)*2, DISP_STR)\n",
    "CODE += '''const unsigned char {0}_XY[{1}] PROGMEM = '''.format(SPRITENAME, len(STRING)*2) + \"{\" + \", \".join([\"{0}, {1}\".format(shape['X'],shape['Y']) for shape, _ in Bitmap]) + \"};\" + '''\n",
    "''' + \"\\n\".join([\"const unsigned char {2}_{0}[{3}] PROGMEM = {1} \".format(i, \"{\" + string[1] + \"};\", SPRITENAME, Bitmap[i][0]['X']*Bitmap[i][0]['Y']) for i, string in enumerate(STRING)]) + '''\n",
    "\n",
    "const long {0}_ARR[{1}] PROGMEM = '''.format(SPRITENAME, len(STRING)) + \"{\" + \", \".join([\"{0}_{1}\".format(SPRITENAME, i) for i in range(len(STRING))]) + \"};\"\n",
    "\n",
    "with open(\"{}_code.txt\".format(SPRITENAME), \"w\") as f: f.write(CODE)"
   ]
  },
  {
   "cell_type": "code",
   "execution_count": 79,
   "metadata": {},
   "outputs": [
    {
     "name": "stdout",
     "output_type": "stream",
     "text": [
      "{'X': 12, 'Y': 22}\n"
     ]
    }
   ],
   "source": [
    "import os\n",
    "\n",
    "FOLDER = r\".\\kaho_kick\"\n",
    "SPRITENAME = \"kaho_kick\"\n",
    "RESOLUTION_X = 30\n",
    "\n",
    "Img_Name_List = os.listdir(FOLDER)\n",
    "FRAMES = [Image.open(FOLDER + \"\\\\\" + img) for img in Img_Name_List]\n",
    "    \n",
    "scale = float(RESOLUTION_X)/np.asarray(FRAMES[0]).shape[1]\n",
    "FRAMES_resized = [Img.resize((int(np.asarray(Img).shape[1] * scale), int(np.asarray(Img).shape[0] * scale)), Image.NEAREST) for Img in FRAMES]\n",
    "FRAMES_RGBA = [np.asarray(Img.convert(\"RGBA\")) for Img in FRAMES_resized]\n",
    "FRAMES_cropped = [crop(Img)[0] for Img in FRAMES_RGBA]\n",
    "FRAMES_disp = [(crop(Img)[1], crop(Img)[2]) for Img in FRAMES_RGBA]\n",
    "FRAMES_disp = [(disp[0] - FRAMES_disp[0][0], disp[1] - FRAMES_disp[0][1]) for disp in FRAMES_disp]\n",
    "Bitmap = [GetBitmap(Img) for Img in FRAMES_cropped]\n",
    "STRING = [(shape, Bitmap_to_string(bitmap)) for shape, bitmap in Bitmap]\n",
    "\n",
    "print(Bitmap[0][0])\n",
    "\n",
    "DISP_STR = \"{\" + \", \".join([\"{0}, {1}\".format(disp[0], disp[1]) for disp in FRAMES_disp]) + \"};\"\n",
    "CODE = '''const char {0}_disp[{1}] PROGMEM = {2}\\n'''.format(SPRITENAME, len(STRING)*2, DISP_STR)\n",
    "CODE += '''const unsigned char {0}_XY[{1}] PROGMEM = '''.format(SPRITENAME, len(STRING)*2) + \"{\" + \", \".join([\"{0}, {1}\".format(shape['X'],shape['Y']) for shape, _ in Bitmap]) + \"};\" + '''\n",
    "''' + \"\\n\".join([\"const unsigned char {2}_{0}[{3}] PROGMEM = {1} \".format(i, \"{\" + string[1] + \"};\", SPRITENAME, Bitmap[i][0]['X']*Bitmap[i][0]['Y']) for i, string in enumerate(STRING)]) + '''\n",
    "\n",
    "const long {0}_ARR[{1}] PROGMEM = '''.format(SPRITENAME, len(STRING)) + \"{\" + \", \".join([\"{0}_{1}\".format(SPRITENAME, i) for i in range(len(STRING))]) + \"};\"\n",
    "\n",
    "with open(\"{}_code.txt\".format(SPRITENAME), \"w\") as f: f.write(CODE)"
   ]
  },
  {
   "cell_type": "code",
   "execution_count": 80,
   "metadata": {},
   "outputs": [
    {
     "data": {
      "text/plain": [
       "24"
      ]
     },
     "execution_count": 80,
     "metadata": {},
     "output_type": "execute_result"
    }
   ],
   "source": [
    "from functools import reduce \n",
    "reduce(lambda a,b: a*b, [2,3,4])"
   ]
  },
  {
   "cell_type": "code",
   "execution_count": null,
   "metadata": {},
   "outputs": [],
   "source": []
  }
 ],
 "metadata": {
  "kernelspec": {
   "display_name": "Python 3",
   "language": "python",
   "name": "python3"
  },
  "language_info": {
   "codemirror_mode": {
    "name": "ipython",
    "version": 3
   },
   "file_extension": ".py",
   "mimetype": "text/x-python",
   "name": "python",
   "nbconvert_exporter": "python",
   "pygments_lexer": "ipython3",
   "version": "3.6.7"
  }
 },
 "nbformat": 4,
 "nbformat_minor": 2
}
