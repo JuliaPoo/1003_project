{
 "cells": [
  {
   "cell_type": "code",
   "execution_count": 3,
   "metadata": {},
   "outputs": [],
   "source": [
    "from PIL import Image\n",
    "import numpy as np"
   ]
  },
  {
   "cell_type": "code",
   "execution_count": 4,
   "metadata": {},
   "outputs": [],
   "source": [
    "def crop(ImgArr):\n",
    "    x_disp = 0; y_disp = 0\n",
    "    \n",
    "    i = 0\n",
    "    while sum(sum(ImgArr[i])) == 0:\n",
    "        ImgArr = np.delete(ImgArr, i, 0)\n",
    "    i = -1\n",
    "    while sum(sum(ImgArr[i])) == 0:\n",
    "        ImgArr = np.delete(ImgArr, i, 0)\n",
    "        y_disp -= 1\n",
    "    i = 0\n",
    "    while sum(sum(ImgArr[:,i])) == 0:\n",
    "        ImgArr = np.delete(ImgArr, i, 1)\n",
    "    i = -1\n",
    "    while sum(sum(ImgArr[:,i])) == 0:\n",
    "        ImgArr = np.delete(ImgArr, i, 1)\n",
    "        x_disp -= 1\n",
    "    return ImgArr, x_disp, y_disp"
   ]
  },
  {
   "cell_type": "code",
   "execution_count": 5,
   "metadata": {},
   "outputs": [],
   "source": [
    "ALPHA = \"ALPHA\"\n",
    "alpha_bit = 0xFE\n",
    "\n",
    "def RGBA_to_bitmap(col):\n",
    "    #8 BIT: BBBGGGRR\n",
    "    if len(col) == 4:\n",
    "        if col[3] == 0: return ALPHA\n",
    "    col = np.array(col)/255.\n",
    "    bitcol = int(round(col[0]*3) + round(col[1]*7)*4 + round(col[2]*7)*4*8)\n",
    "    if bitcol == alpha_bit: bitcol += 1\n",
    "    return bitcol\n",
    "\n",
    "def bitmap_to_RGBA(bitcol):\n",
    "    #8 BIT: BBBGGGRR\n",
    "    if bitcol == ALPHA: return [0,0,0,0]\n",
    "    R = bitcol%4\n",
    "    G = bitcol//4 % 8\n",
    "    B = bitcol//(4*8)\n",
    "    return [int(x) for x in [R/3.*255, G/7.*255, B/7.*255, 255]]\n",
    "    \n",
    "def GetBitmap(ImgArr):\n",
    "    shape = ImgArr.shape\n",
    "    Bitmap = [[RGBA_to_bitmap(COL) for COL in row] for row in ImgArr]\n",
    "    return {\"X\": shape[1], \"Y\": shape[0]}, Bitmap\n",
    "\n",
    "def Bitmap_to_string(Bitmap):\n",
    "    return \", \".join([str(item) for sublist in Bitmap for item in sublist])\n",
    "\n",
    "def Bitmap_to_image(Bitmap):\n",
    "    return Image.fromarray(np.array([[bitmap_to_RGBA(COL) for COL in row] for row in Bitmap], dtype=\"uint8\"))"
   ]
  },
  {
   "cell_type": "code",
   "execution_count": 6,
   "metadata": {},
   "outputs": [],
   "source": [
    "def Filename_to_bitmap(FILENAME, RESOLUTION_x, Orientation = \"xy\"):\n",
    "    '''\n",
    "    FILENAME must be of an image with an alpha channel\n",
    "    RESOLUTION_x is an estimate of the x-resolution of the final bitmap\n",
    "    \n",
    "    returns:\n",
    "        STRING, string of final bitmap. Just copy and paste it\n",
    "        shape: shape of final bitmap (after cropping extra alpha rows and columns)\n",
    "    '''\n",
    "    \n",
    "    Img = Image.open(FILENAME)\n",
    "    RX = np.asarray(Img).shape[0]\n",
    "    RY = np.asarray(Img).shape[1]\n",
    "    if Orientation == \"yx\": t = RX; RX = RY; RY = t;\n",
    "    scale = RESOLUTION_x/RX\n",
    "    Img = Img.resize((round(RX*scale), round(RY*scale)), Image.NEAREST)\n",
    "    ImgArr = np.asarray(Img)\n",
    "    ImgArrCrop, x_disp, y_disp = crop(ImgArr)\n",
    "    shape, Bitmap = GetBitmap(ImgArrCrop)\n",
    "    Bitmap = [[col if col != 0 else 0xFF for col in row] for row in Bitmap]\n",
    "    STRING = Bitmap_to_string(Bitmap)\n",
    "    preview = Bitmap_to_image(Bitmap)\n",
    "    \n",
    "    return STRING, shape, preview, x_disp, y_disp"
   ]
  },
  {
   "cell_type": "code",
   "execution_count": 15,
   "metadata": {},
   "outputs": [],
   "source": [
    "FILENAME = r\"C:\\Users\\nailu\\Downloads\\eheh.png\"\n",
    "#FILENAME = r\"C:\\Users\\nailu\\Downloads\\grass.png\"\n",
    "#FILENAME = r\"C:\\Users\\nailu\\Downloads\\flag (3).jpg\"\n",
    "#FILENAME = r\"C:\\Users\\nailu\\Downloads\\hamburger_menu.png\"\n",
    "STRING, shape, preview, x_disp, y_disp = Filename_to_bitmap(FILENAME, 30, Orientation = \"yx\")"
   ]
  },
  {
   "cell_type": "code",
   "execution_count": 16,
   "metadata": {},
   "outputs": [
    {
     "data": {
      "text/plain": [
       "{'X': 17, 'Y': 27}"
      ]
     },
     "execution_count": 16,
     "metadata": {},
     "output_type": "execute_result"
    }
   ],
   "source": [
    "shape"
   ]
  },
  {
   "cell_type": "code",
   "execution_count": 17,
   "metadata": {},
   "outputs": [
    {
     "data": {
      "image/png": "[encoded data removed]",
      "text/plain": [
       "<PIL.Image.Image image mode=RGBA size=17x27 at 0x2EAAF5B4C88>"
      ]
     },
     "execution_count": 17,
     "metadata": {},
     "output_type": "execute_result"
    }
   ],
   "source": [
    "preview"
   ]
  },
  {
   "cell_type": "code",
   "execution_count": 23,
   "metadata": {},
   "outputs": [
    {
     "data": {
      "text/plain": [
       "'255, 255, 255, 255, 255, 255, 255, 255, ALPHA, ALPHA, ALPHA, ALPHA, ALPHA, ALPHA, ALPHA, ALPHA, 255, 255, 255, 255, 255, 255, 255, 255, 255, 255, 255, 255, 255, 255, 255, 255, ALPHA, ALPHA, ALPHA, ALPHA, ALPHA, ALPHA, ALPHA, ALPHA, 255, 255, 255, 255, 255, 255, 255, 255'"
      ]
     },
     "execution_count": 23,
     "metadata": {},
     "output_type": "execute_result"
    }
   ],
   "source": [
    "STRING"
   ]
  },
  {
   "cell_type": "code",
   "execution_count": null,
   "metadata": {},
   "outputs": [],
   "source": []
  },
  {
   "cell_type": "code",
   "execution_count": 1,
   "metadata": {},
   "outputs": [],
   "source": [
    "from PIL import GifImagePlugin"
   ]
  },
  {
   "cell_type": "code",
   "execution_count": 49,
   "metadata": {},
   "outputs": [],
   "source": [
    "def replace_alpha(col, frame):\n",
    "    frame = frame.copy();\n",
    "    for i in range(frame.shape[0]):\n",
    "        for j in range(frame.shape[1]):\n",
    "            elif (sum([1 for X,Y in zip(frame[i][j], col) if X != Y]) == 0):\n",
    "                for k in range(4): frame[i][j][k] = 0\n",
    "    return frame"
   ]
  },
  {
   "cell_type": "code",
   "execution_count": 64,
   "metadata": {},
   "outputs": [
    {
     "name": "stdout",
     "output_type": "stream",
     "text": [
      "{'X': 10, 'Y': 12}\n"
     ]
    }
   ],
   "source": [
    "FILENAME = r\"./cutie2.gif\"\n",
    "SPRITENAME = \"RUN\"\n",
    "RESOLUTION_X = 30 \n",
    "\n",
    "GIF = Image.open(FILENAME)\n",
    "n_frames = GIF.n_frames\n",
    "FRAMES = []\n",
    "for i in range(n_frames):\n",
    "    GIF.seek(i)\n",
    "    img = GIF.copy()\n",
    "    FRAMES.append(img)\n",
    "    \n",
    "scale = float(RESOLUTION_X)/np.asarray(FRAMES[0]).shape[1]\n",
    "FRAMES_resized = [Img.resize((int(np.asarray(Img).shape[1] * scale), int(np.asarray(Img).shape[0] * scale)), Image.NEAREST) for Img in FRAMES]\n",
    "FRAMES_RGBA = [np.asarray(Img.convert(\"RGBA\")) for Img in FRAMES_resized]\n",
    "FRAMES_RGBA = [replace_alpha([192, 192, 192, 255], frame) for frame in FRAMES_RGBA]\n",
    "FRAMES_cropped = [crop(Img)[0] for Img in FRAMES_RGBA]\n",
    "FRAMES_disp = [(crop(Img)[1], crop(Img)[2]) for Img in FRAMES_RGBA]\n",
    "FRAMES_disp = [(disp[0] - FRAMES_disp[0][0], disp[1] - FRAMES_disp[0][1]) for disp in FRAMES_disp]\n",
    "Bitmap = [GetBitmap(Img) for Img in FRAMES_cropped]\n",
    "STRING = [(shape, Bitmap_to_string(bitmap)) for shape, bitmap in Bitmap]\n",
    "\n",
    "print(Bitmap[0][0])\n",
    "\n",
    "DISP_STR = \"{\" + \", \".join([\"{0}, {1}\".format(disp[0], disp[1]) for disp in FRAMES_disp]) + \"};\"\n",
    "CODE = '''const unsigned char {0}_disp[{1}] PROGMEM = {2}\\n'''.format(SPRITENAME, len(STRING)*2, DISP_STR)\n",
    "CODE += '''const unsigned char {0}_XY[{1}] PROGMEM = '''.format(SPRITENAME, len(STRING)*2) + \"{\" + \", \".join([\"{0}, {1}\".format(shape['X'],shape['Y']) for shape, _ in Bitmap]) + \"};\" + '''\n",
    "''' + \"\\n\".join([\"const unsigned char {2}_{0}[{3}] PROGMEM = {1} \".format(i, \"{\" + string[1] + \"};\", SPRITENAME, Bitmap[i][0]['X']*Bitmap[i][0]['Y']) for i, string in enumerate(STRING)]) + '''\n",
    "\n",
    "const long {0}_ARR[{1}] PROGMEM = '''.format(SPRITENAME, len(STRING)) + \"{\" + \", \".join([\"{0}_{1}\".format(SPRITENAME, i) for i in range(len(STRING))]) + \"};\"\n",
    "\n",
    "with open(\"{}_code.txt\".format(SPRITENAME), \"w\") as f: f.write(CODE)"
   ]
  },
  {
   "cell_type": "code",
   "execution_count": 33,
   "metadata": {},
   "outputs": [
    {
     "name": "stdout",
     "output_type": "stream",
     "text": [
      "{'X': 12, 'Y': 22}\n"
     ]
    }
   ],
   "source": [
    "import os\n",
    "\n",
    "FOLDER = r\".\\kaho_kick\"\n",
    "SPRITENAME = \"kaho_kick\"\n",
    "RESOLUTION_X = 30 \n",
    "\n",
    "Img_Name_List = os.listdir(FOLDER)\n",
    "FRAMES = [Image.open(FOLDER + \"\\\\\" + img) for img in Img_Name_List]\n",
    "    \n",
    "scale = float(RESOLUTION_X)/np.asarray(FRAMES[0]).shape[1]\n",
    "FRAMES_resized = [Img.resize((int(np.asarray(Img).shape[1] * scale), int(np.asarray(Img).shape[0] * scale)), Image.NEAREST) for Img in FRAMES]\n",
    "FRAMES_RGBA = [np.asarray(Img.convert(\"RGBA\")) for Img in FRAMES_resized]\n",
    "FRAMES_cropped = [crop(Img)[0] for Img in FRAMES_RGBA]\n",
    "FRAMES_disp = [(crop(Img)[1], crop(Img)[2]) for Img in FRAMES_RGBA]\n",
    "Bitmap = [GetBitmap(Img) for Img in FRAMES_cropped]\n",
    "STRING = [(shape, Bitmap_to_string(bitmap)) for shape, bitmap in Bitmap]\n",
    "\n",
    "print(Bitmap[0][0])\n",
    "\n",
    "DISP_STR = \"{\" + \", \".join([\"{0}, {1}\".format(disp[0], disp[1]) for disp in FRAMES_disp]) + \"};\"\n",
    "CODE = '''const unsigned char {0}_disp[{1}] PROGMEM = {2}\\n'''.format(SPRITENAME, len(STRING)*2, DISP_STR)\n",
    "CODE += '''const unsigned char {0}_XY[{1}] PROGMEM = '''.format(SPRITENAME, len(STRING)*2) + \"{\" + \", \".join([\"{0}, {1}\".format(shape['X'],shape['Y']) for shape, _ in Bitmap]) + \"};\" + '''\n",
    "''' + \"\\n\".join([\"const unsigned char {2}_{0}[{3}] PROGMEM = {1} \".format(i, \"{\" + string[1] + \"};\", SPRITENAME, Bitmap[i][0]['X']*Bitmap[i][0]['Y']) for i, string in enumerate(STRING)]) + '''\n",
    "\n",
    "const long {0}_ARR[{1}] PROGMEM = '''.format(SPRITENAME, len(STRING)) + \"{\" + \", \".join([\"{0}_{1}\".format(SPRITENAME, i) for i in range(len(STRING))]) + \"};\"\n",
    "\n",
    "with open(\"{}_code.txt\".format(SPRITENAME), \"w\") as f: f.write(CODE)"
   ]
  },
  {
   "cell_type": "code",
   "execution_count": 34,
   "metadata": {},
   "outputs": [
    {
     "data": {
      "text/plain": [
       "24"
      ]
     },
     "execution_count": 34,
     "metadata": {},
     "output_type": "execute_result"
    }
   ],
   "source": [
    "from functools import reduce \n",
    "reduce(lambda a,b: a*b, [2,3,4])"
   ]
  },
  {
   "cell_type": "code",
   "execution_count": null,
   "metadata": {},
   "outputs": [],
   "source": []
  }
 ],
 "metadata": {
  "kernelspec": {
   "display_name": "Python 3",
   "language": "python",
   "name": "python3"
  },
  "language_info": {
   "codemirror_mode": {
    "name": "ipython",
    "version": 3
   },
   "file_extension": ".py",
   "mimetype": "text/x-python",
   "name": "python",
   "nbconvert_exporter": "python",
   "pygments_lexer": "ipython3",
   "version": "3.6.7"
  }
 },
 "nbformat": 4,
 "nbformat_minor": 2
}
